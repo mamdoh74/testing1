{
  "nbformat": 4,
  "nbformat_minor": 0,
  "metadata": {
    "colab": {
      "name": "Untitled9.ipynb",
      "provenance": [],
      "collapsed_sections": [],
      "authorship_tag": "ABX9TyNJNW2dNUawn2TL7AqNiQ5V",
      "include_colab_link": true
    },
    "kernelspec": {
      "name": "python3",
      "display_name": "Python 3"
    },
    "language_info": {
      "name": "python"
    }
  },
  "cells": [
    {
      "cell_type": "markdown",
      "metadata": {
        "id": "view-in-github",
        "colab_type": "text"
      },
      "source": [
        "<a href=\"https://colab.research.google.com/github/mamdoh74/testing1/blob/main/LipNet_Run.ipynb\" target=\"_parent\"><img src=\"https://colab.research.google.com/assets/colab-badge.svg\" alt=\"Open In Colab\"/></a>"
      ]
    },
    {
      "cell_type": "markdown",
      "source": [
        "# alter predict.py \n",
        "in evaluation"
      ],
      "metadata": {
        "id": "WUuAQEBj-dgR"
      }
    },
    {
      "cell_type": "code",
      "execution_count": null,
      "metadata": {
        "id": "6pSXxpuz-ZZq"
      },
      "outputs": [],
      "source": [
        "# import sys ,os \n",
        "# sys.path.append(os.getcwd())\n",
        "# alter prints add () to every one of them"
      ]
    },
    {
      "cell_type": "markdown",
      "source": [
        "# getting repo from source"
      ],
      "metadata": {
        "id": "KYNyWBor-ck7"
      }
    },
    {
      "cell_type": "code",
      "source": [
        "!git clone https://github.com/rizkiarm/LipNet.git"
      ],
      "metadata": {
        "id": "GWVTqDh_-tTg"
      },
      "execution_count": null,
      "outputs": []
    },
    {
      "cell_type": "markdown",
      "source": [
        "## go to the directory"
      ],
      "metadata": {
        "id": "9_2ny6JM-vWT"
      }
    },
    {
      "cell_type": "code",
      "source": [
        "%cd LipNet/"
      ],
      "metadata": {
        "id": "0321jRtb-vxF"
      },
      "execution_count": null,
      "outputs": []
    },
    {
      "cell_type": "markdown",
      "source": [
        "#install all requirments"
      ],
      "metadata": {
        "id": "XacUs89_-3vX"
      }
    },
    {
      "cell_type": "code",
      "source": [
        "pip install -e ."
      ],
      "metadata": {
        "id": "T2G5S-Of-4M0"
      },
      "execution_count": null,
      "outputs": []
    },
    {
      "cell_type": "markdown",
      "source": [
        "## installing scipy of the approparate version"
      ],
      "metadata": {
        "id": "-V-HZkf7-9FE"
      }
    },
    {
      "cell_type": "code",
      "source": [
        "!pip install scipy==1.2.0"
      ],
      "metadata": {
        "id": "oI7X-O6i--DY"
      },
      "execution_count": null,
      "outputs": []
    },
    {
      "cell_type": "markdown",
      "source": [
        "## installing tensorflow of the approparate version"
      ],
      "metadata": {
        "id": "TbrTKf7Y_FmD"
      }
    },
    {
      "cell_type": "code",
      "source": [
        "!pip install tensorflow==1.15.0"
      ],
      "metadata": {
        "id": "tjNwbeBL_GEd"
      },
      "execution_count": null,
      "outputs": []
    },
    {
      "cell_type": "markdown",
      "source": [
        "### printing versions of tensorflow and keras"
      ],
      "metadata": {
        "id": "OqkHoEwg_QUe"
      }
    },
    {
      "cell_type": "code",
      "source": [
        "import tensorflow as tf\n",
        "print(tf.__version__)"
      ],
      "metadata": {
        "id": "uQAfX13P_SsU"
      },
      "execution_count": null,
      "outputs": []
    },
    {
      "cell_type": "code",
      "source": [
        "import keras \n",
        "print(keras.__version__)"
      ],
      "metadata": {
        "id": "AwFFwGah_TOE"
      },
      "execution_count": null,
      "outputs": []
    },
    {
      "cell_type": "markdown",
      "source": [
        "## installing h5py for approparate version"
      ],
      "metadata": {
        "id": "mo60FNr7_ax9"
      }
    },
    {
      "cell_type": "code",
      "source": [
        "!pip install \t'h5py==2.6.0'"
      ],
      "metadata": {
        "id": "PKAKlDEI_bHN"
      },
      "execution_count": null,
      "outputs": []
    },
    {
      "cell_type": "markdown",
      "source": [
        "## installing keras for approparate version"
      ],
      "metadata": {
        "id": "2jNPEAFI_iwj"
      }
    },
    {
      "cell_type": "code",
      "source": [
        "!pip install Keras==2.0.2"
      ],
      "metadata": {
        "id": "rqTi69OL_lTA"
      },
      "execution_count": null,
      "outputs": []
    },
    {
      "cell_type": "markdown",
      "source": [
        "## installing sk-video for approparate version"
      ],
      "metadata": {
        "id": "llNXAnl6_p32"
      }
    },
    {
      "cell_type": "code",
      "source": [
        "!pip install sk-video"
      ],
      "metadata": {
        "id": "tUDngpV6_xI0"
      },
      "execution_count": null,
      "outputs": []
    },
    {
      "cell_type": "markdown",
      "source": [
        ""
      ],
      "metadata": {
        "id": "_j-tGPX7_xh7"
      }
    },
    {
      "cell_type": "code",
      "source": [
        "!pip install pip"
      ],
      "metadata": {
        "id": "bWSDc2vM_3W-"
      },
      "execution_count": null,
      "outputs": []
    },
    {
      "cell_type": "markdown",
      "source": [
        "# **Nedded**"
      ],
      "metadata": {
        "id": "PZQp-3Xo_36e"
      }
    },
    {
      "cell_type": "code",
      "source": [
        "! add-apt-repository ppa:graphics-drivers/ppa\n",
        "! apt update\n",
        "! apt install nvidia-384 nvidia-384-dev\n",
        "! apt-get install g++ freeglut3-dev build-essential libx11-dev libxmu-dev libxi-dev libglu1-mesa libglu1-mesa-dev"
      ],
      "metadata": {
        "id": "k7YACi9__4U0"
      },
      "execution_count": null,
      "outputs": []
    },
    {
      "cell_type": "markdown",
      "source": [
        ""
      ],
      "metadata": {
        "id": "kVKXCHS9_9ag"
      }
    },
    {
      "cell_type": "code",
      "source": [
        "!wget https://developer.nvidia.com/compute/cuda/9.2/Prod/local_installers/cuda-repo-ubuntu1710-9-2-local_9.2.88-1_amd64"
      ],
      "metadata": {
        "id": "0_lvsMeN_95W"
      },
      "execution_count": null,
      "outputs": []
    },
    {
      "cell_type": "code",
      "source": [
        "!wget https://developer.nvidia.com/compute/cuda/9.2/Prod/patches/1/cuda-repo-ubuntu1710-9-2-local-cublas-update-1_1.0-1_amd64"
      ],
      "metadata": {
        "id": "lvUNOXPHAAnc"
      },
      "execution_count": null,
      "outputs": []
    },
    {
      "cell_type": "code",
      "source": [
        "!dpkg -i cuda-repo-ubuntu1710-9-2-local_9.2.88-1_amd64"
      ],
      "metadata": {
        "id": "xivqbL0NAC7T"
      },
      "execution_count": null,
      "outputs": []
    },
    {
      "cell_type": "code",
      "source": [
        "!apt-key add /var/cuda-repo-9-2-local/7fa2af80.pub"
      ],
      "metadata": {
        "id": "XZPm3QEfAEe0"
      },
      "execution_count": null,
      "outputs": []
    },
    {
      "cell_type": "code",
      "source": [
        "!apt-get update"
      ],
      "metadata": {
        "id": "b8vb7jgLAF7U"
      },
      "execution_count": null,
      "outputs": []
    },
    {
      "cell_type": "code",
      "source": [
        "!apt-get install cuda"
      ],
      "metadata": {
        "id": "gza4s2lIAHsM"
      },
      "execution_count": null,
      "outputs": []
    },
    {
      "cell_type": "markdown",
      "source": [
        "#if any restart runtime founded in process restart restart time then \n",
        "##add the video of testin\n"
      ],
      "metadata": {
        "id": "vfeBhVB_AJpL"
      }
    },
    {
      "cell_type": "code",
      "source": [
        "! ./predict evaluation/models/overlapped-weights368.h5 evaluation/samples/blue.mpg"
      ],
      "metadata": {
        "id": "74oAutMFAO9q"
      },
      "execution_count": null,
      "outputs": []
    }
  ]
}